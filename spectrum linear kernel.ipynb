{
 "cells": [
  {
   "cell_type": "code",
   "execution_count": 16,
   "metadata": {},
   "outputs": [],
   "source": [
    "import numpy as np\n",
    "import os\n",
    "import argparse\n",
    "import pandas as pd\n",
    "from itertools import combinations_with_replacement \n",
    "from itertools import permutations \n",
    "from tqdm.notebook import tqdm\n",
    "import csv\n",
    "from cvxopt import cvxopt\n",
    "import cvxpy as cp\n"
   ]
  },
  {
   "cell_type": "markdown",
   "metadata": {},
   "source": [
    "### --------------------------------- Kernel method---------------------------"
   ]
  },
  {
   "cell_type": "code",
   "execution_count": 20,
   "metadata": {},
   "outputs": [],
   "source": [
    "# quadratic problem solver\n",
    "def cvxopt_solve_qp(P, q, G=None, h=None, A=None, b=None):\n",
    "    P = .5 * (P + P.T)\n",
    "    args = [cvxopt.matrix(P), cvxopt.matrix(q)]\n",
    "    if G is not None:\n",
    "        args.extend([cvxopt.matrix(G), cvxopt.matrix(h)])\n",
    "        if A is not None:\n",
    "            args.extend([cvxopt.matrix(A), cvxopt.matrix(b)])\n",
    "    sol = cvxopt.solvers.qp(*args)\n",
    "    if 'optimal' not in sol['status']:\n",
    "        return None\n",
    "    return (np.array(sol['x']).reshape((P.shape[1],))) #,sol['primal objective']\n",
    "\n",
    "\n",
    "def ridge_reg(K,Y,lamda):\n",
    "    \n",
    "    \"\"\"\n",
    "      inputs:\n",
    "           K: Gram matrix: n*n pd matrix\n",
    "           Y:the data labels: n*1 vector\n",
    "           lamda: the regularization scalar\n",
    "        -----------------------------------\n",
    "        outputs:\n",
    "           Alpha: vector that contains the representer theorem parameters: n*1 vector\n",
    "    \"\"\"\n",
    "    num_samples=len(K)\n",
    "    Alpha=np.linalg.solve((K + lamda*num_samples*np.eye(num_samples)),Y)\n",
    "    return(Alpha)\n",
    "\n",
    "def my_SVM(K,Y,lamda):\n",
    "    \"\"\"\n",
    "      inputs:\n",
    "           K: Gram matrix: n*n pd matrix\n",
    "           Y:the data labels: n*1 vector\n",
    "           lamda: the regularization scalar\n",
    "        -----------------------------------\n",
    "        outputs:\n",
    "           Alpha: vector that contains the representer theorem parameters: n*1 vector\n",
    "    \"\"\"\n",
    "    P=2*K\n",
    "    q= ((-2*Y).reshape(len(Y),1)).astype('float')\n",
    "    G=np.concatenate((np.diag(Y), -np.diag(Y)), axis=0).astype('float')\n",
    "    h=np.concatenate(((1/(2*lamda*len(Y)))*np.ones(len(Y)), np.zeros(len(Y))), axis=0).reshape(2*len(Y),1).astype('float')\n",
    "    Alpha=cvxopt_solve_qp(P, q, G, h)\n",
    "    return(Alpha)\n",
    "    "
   ]
  },
  {
   "cell_type": "markdown",
   "metadata": {},
   "source": [
    "### -------------------------------------------- Data extraction---------------------------------"
   ]
  },
  {
   "cell_type": "code",
   "execution_count": 7,
   "metadata": {},
   "outputs": [],
   "source": [
    "Xtr0 = pd.read_csv('Xtr0.csv', sep=',', header=None).to_numpy()[1:,1]\n",
    "Xtr0_mat=pd.read_csv('Xtr0_mat100.csv', sep=',', header=None).to_numpy()[1:,:]\n",
    "Ytr0_str=pd.read_csv('Ytr0.csv', sep=',', header=None).to_numpy()[1:]\n",
    "Ytr0=np.array([int(Ytr0_str[i][1]) for i in range(len(Ytr0_str))])\n",
    "\n",
    "Xtr1 = pd.read_csv('Xtr1.csv', sep=',', header=None).to_numpy()[1:,1]\n",
    "Xtr1_mat=pd.read_csv('Xtr1_mat100.csv', sep=',', header=None).to_numpy()[1:,:]\n",
    "Ytr1_str=pd.read_csv('Ytr1.csv', sep=',', header=None).to_numpy()[1:]\n",
    "Ytr1=np.array([int(Ytr1_str[i][1]) for i in range(len(Ytr1_str))])\n",
    "\n",
    "Xtr2 = pd.read_csv('Xtr2.csv', sep=',', header=None).to_numpy()[1:,1]\n",
    "Xtr2_mat=pd.read_csv('Xtr2_mat100.csv', sep=',', header=None).to_numpy()[1:,:]\n",
    "Ytr2_str=pd.read_csv('Ytr2.csv', sep=',', header=None).to_numpy()[1:]\n",
    "Ytr2=np.array([int(Ytr2_str[i][1]) for i in range(len(Ytr2_str))])\n",
    "\n",
    "Xte0 = pd.read_csv('Xte0.csv', sep=',', header=None).to_numpy()[1:,1]\n",
    "Xte0_mat=pd.read_csv('Xte0_mat100.csv', sep=',', header=None).to_numpy()[1:,:]\n",
    "\n",
    "Xte1 = pd.read_csv('Xte1.csv', sep=',', header=None).to_numpy()[1:,1]\n",
    "Xte1_mat=pd.read_csv('Xte1_mat100.csv', sep=',', header=None).to_numpy()[1:,:]\n",
    "\n",
    "Xte2 = pd.read_csv('Xte2.csv', sep=',', header=None).to_numpy()[1:,1]\n",
    "Xte2_mat=pd.read_csv('Xte2_mat100.csv', sep=',', header=None).to_numpy()[1:,:]\n",
    "\n"
   ]
  },
  {
   "cell_type": "markdown",
   "metadata": {},
   "source": [
    "### --------------------------------- Spectrum Kernel --------------------"
   ]
  },
  {
   "cell_type": "code",
   "execution_count": 8,
   "metadata": {},
   "outputs": [],
   "source": [
    "def spectrum(k,x):\n",
    "    '''\n",
    "    this function compute the spectrum of length k for a sequence x\n",
    "    ----------------------------------------------------------------\n",
    "    inputs:\n",
    "        k: legth of the spectrum\n",
    "        x: sequence in question\n",
    "    ----------------------------------------------------------------\n",
    "    outputs:\n",
    "        L_spec: liste containing the spectrum\n",
    "    '''\n",
    "    L_spec=[]\n",
    "    for i in range(len(x)-k+1):\n",
    "        L_spec.append(x[i:i+k])\n",
    "    return(L_spec)\n",
    "\n",
    "\n",
    "    \n",
    "list_char=['A','C','G','T'] # list of possible characters that may appear in the DNA \n",
    "def General_spec(k,list_char):\n",
    "    '''\n",
    "    this function gives the complete possible spectrum using letters in list_char\n",
    "    -----------------------------------------------------------------------------\n",
    "    inputs:\n",
    "        k:legth of the spectrum\n",
    "        list_char: list of possible letters\n",
    "    -----------------------------------------------------------------------------\n",
    "    outputs:\n",
    "        list_spec_comp: list of the complete general spectrum\n",
    "    '''\n",
    "    list_spec_comp=[]\n",
    "    comb = combinations_with_replacement(list_char, k)\n",
    "    for i in list(comb):\n",
    "         for j in list(permutations(list(i))):\n",
    "                    word=''.join(list(j))\n",
    "                    list_spec_comp.append(word)\n",
    "    list_spec_comp=np.unique(list_spec_comp, axis=0)\n",
    "    return(list_spec_comp)\n",
    "  \n",
    "    \n",
    "def New_feature_vector(list_spec_comp,spec_x):\n",
    "    '''\n",
    "    inputs:\n",
    "        list_spec_comp: list of the complete general spectrum\n",
    "        spec_x:list containing the spectrum of x\n",
    "    ---------------------------------------------------------\n",
    "    outputs:\n",
    "        feature_vector: vector which contains the new representation of x\n",
    "    '''\n",
    "    feature_vector=[]\n",
    "    for u in list_spec_comp:\n",
    "        feature_vector.append(spec_x.count(u))\n",
    "        \n",
    "    return(np.array(feature_vector))\n",
    "\n",
    "def New_feature_matrix(k,X,list_spec_comp):\n",
    "    New_feature_matrix=np.zeros((len(X),len(list_spec_comp)))\n",
    "    for i in tqdm(range(len(X))):\n",
    "        New_feature_matrix[i,:]=New_feature_vector(list_spec_comp,spectrum(k,X[i]))\n",
    "    return(New_feature_matrix)\n",
    "    \n",
    "    \n",
    "\n",
    "def spectrum_kernel(k,x,y,list_spec_comp):\n",
    "    '''\n",
    "    inputs:\n",
    "        k: length of the spectrum\n",
    "        x,y: two vector in the X space\n",
    "    --------------------------------------------------\n",
    "    outputs:\n",
    "        K(x,y):<phi(x),phi(y)>\n",
    "    '''\n",
    "    \n",
    "    spec_x=spectrum(k,x)\n",
    "    spec_y=spectrum(k,y)\n",
    "    K_x_y=np.sum(New_feature_vector(list_spec_comp,spec_x)*New_feature_vector(list_spec_comp,spec_y))\n",
    "    \n",
    "    return(K_x_y)\n",
    "\n",
    "\n",
    "def Gram_spectrum_kernel(k,X):\n",
    "    list_spec_comp=General_spec(k,list_char)\n",
    "    feature_matrix= New_feature_matrix(k,X,list_spec_comp)\n",
    "    K_mat=np.dot(feature_matrix,feature_matrix.T)\n",
    "    return(K_mat + 0.0000001*np.eye(len(X)),feature_matrix) #+ 0.0000001*np.eye(len(X)) I add that to get rid of the very tiny negative eigenvalues\n",
    "    \n",
    "def predict(X_test,feature_matrix_tr,Alpha,k):\n",
    "    New_feature_mat_X_test=New_feature_matrix(k,X_test,list_spec_comp)\n",
    "    Gram_mat=np.dot(New_feature_mat_X_test,feature_matrix_tr.T)\n",
    "    Y=np.dot(Gram_mat,Alpha)\n",
    "    Y_=np.zeros_like(Y)\n",
    "    Y_[Y>0]=1\n",
    "    return(Y_)\n",
    "    "
   ]
  },
  {
   "cell_type": "markdown",
   "metadata": {},
   "source": [
    "### --------------------------------------------------------k=8----------------------------------------------------------------------------"
   ]
  },
  {
   "cell_type": "code",
   "execution_count": 9,
   "metadata": {},
   "outputs": [
    {
     "data": {
      "application/vnd.jupyter.widget-view+json": {
       "model_id": "bb260d4116514736be8c2c4bfb509c19",
       "version_major": 2,
       "version_minor": 0
      },
      "text/plain": [
       "  0%|          | 0/2000 [00:00<?, ?it/s]"
      ]
     },
     "metadata": {},
     "output_type": "display_data"
    },
    {
     "data": {
      "application/vnd.jupyter.widget-view+json": {
       "model_id": "b9982d92e8ec4e8b88663e3d9404e619",
       "version_major": 2,
       "version_minor": 0
      },
      "text/plain": [
       "  0%|          | 0/2000 [00:00<?, ?it/s]"
      ]
     },
     "metadata": {},
     "output_type": "display_data"
    },
    {
     "data": {
      "application/vnd.jupyter.widget-view+json": {
       "model_id": "14e96b02d1ef44cd9ae8fb53634d408d",
       "version_major": 2,
       "version_minor": 0
      },
      "text/plain": [
       "  0%|          | 0/2000 [00:00<?, ?it/s]"
      ]
     },
     "metadata": {},
     "output_type": "display_data"
    },
    {
     "name": "stdout",
     "output_type": "stream",
     "text": [
      "     pcost       dcost       gap    pres   dres\n",
      " 0: -2.1256e+01 -2.6078e+01  5e+03  7e+01  1e-15\n",
      " 1: -2.1214e+01 -2.5141e+01  3e+02  5e+00  1e-15\n",
      " 2: -1.8960e+01 -1.8841e+01  1e+02  1e+00  8e-16\n",
      " 3: -1.1069e+01 -1.2756e+01  2e+01  2e-01  6e-16\n",
      " 4: -7.5284e+00 -9.6937e+00  2e+00  3e-17  8e-16\n",
      " 5: -7.8079e+00 -8.0876e+00  3e-01  2e-17  4e-16\n",
      " 6: -7.8647e+00 -7.8962e+00  3e-02  2e-17  3e-16\n",
      " 7: -7.8765e+00 -7.8782e+00  2e-03  2e-17  4e-16\n",
      " 8: -7.8772e+00 -7.8773e+00  1e-04  2e-17  4e-16\n",
      " 9: -7.8772e+00 -7.8772e+00  2e-06  2e-17  4e-16\n",
      "Optimal solution found.\n",
      "     pcost       dcost       gap    pres   dres\n",
      " 0: -2.0960e+01 -2.5742e+01  4e+03  7e+01  8e-16\n",
      " 1: -2.0934e+01 -2.4971e+01  2e+02  3e+00  7e-16\n",
      " 2: -1.8494e+01 -1.7448e+01  5e+01  6e-01  7e-16\n",
      " 3: -9.0080e+00 -1.2279e+01  8e+00  5e-02  1e-15\n",
      " 4: -8.2692e+00 -8.9409e+00  7e-01  9e-04  5e-16\n",
      " 5: -8.4731e+00 -8.5403e+00  7e-02  9e-05  3e-16\n",
      " 6: -8.4960e+00 -8.5003e+00  5e-03  5e-06  3e-16\n",
      " 7: -8.4976e+00 -8.4977e+00  1e-04  1e-07  3e-16\n",
      " 8: -8.4976e+00 -8.4976e+00  2e-06  2e-09  3e-16\n",
      "Optimal solution found.\n",
      "     pcost       dcost       gap    pres   dres\n",
      " 0: -1.7963e+01 -2.3160e+01  5e+03  7e+01  1e-15\n",
      " 1: -1.7913e+01 -2.2434e+01  5e+02  8e+00  9e-16\n",
      " 2: -1.6710e+01 -1.9154e+01  1e+02  2e+00  9e-16\n",
      " 3: -1.1012e+01 -1.3323e+01  2e+01  2e-01  6e-16\n",
      " 4: -6.8037e+00 -1.0166e+01  3e+00  4e-17  8e-16\n",
      " 5: -7.1930e+00 -7.6623e+00  5e-01  2e-17  4e-16\n",
      " 6: -7.3082e+00 -7.3658e+00  6e-02  2e-17  3e-16\n",
      " 7: -7.3264e+00 -7.3346e+00  8e-03  2e-17  3e-16\n",
      " 8: -7.3296e+00 -7.3300e+00  5e-04  2e-17  3e-16\n",
      " 9: -7.3298e+00 -7.3298e+00  2e-05  2e-17  4e-16\n",
      "10: -7.3298e+00 -7.3298e+00  3e-07  2e-17  4e-16\n",
      "Optimal solution found.\n"
     ]
    },
    {
     "data": {
      "application/vnd.jupyter.widget-view+json": {
       "model_id": "2d85c6e24ce642c5aa8de909b779bbc6",
       "version_major": 2,
       "version_minor": 0
      },
      "text/plain": [
       "  0%|          | 0/1000 [00:00<?, ?it/s]"
      ]
     },
     "metadata": {},
     "output_type": "display_data"
    },
    {
     "data": {
      "application/vnd.jupyter.widget-view+json": {
       "model_id": "d49ae1e9c3c54b43932fe3cd2f78161d",
       "version_major": 2,
       "version_minor": 0
      },
      "text/plain": [
       "  0%|          | 0/1000 [00:00<?, ?it/s]"
      ]
     },
     "metadata": {},
     "output_type": "display_data"
    },
    {
     "data": {
      "application/vnd.jupyter.widget-view+json": {
       "model_id": "5aa7f3d7f4574f45a175592b4e5c8a62",
       "version_major": 2,
       "version_minor": 0
      },
      "text/plain": [
       "  0%|          | 0/1000 [00:00<?, ?it/s]"
      ]
     },
     "metadata": {},
     "output_type": "display_data"
    },
    {
     "data": {
      "application/vnd.jupyter.widget-view+json": {
       "model_id": "0a38f546fe0c44489a92e5339cc78447",
       "version_major": 2,
       "version_minor": 0
      },
      "text/plain": [
       "  0%|          | 0/1000 [00:00<?, ?it/s]"
      ]
     },
     "metadata": {},
     "output_type": "display_data"
    },
    {
     "data": {
      "application/vnd.jupyter.widget-view+json": {
       "model_id": "46d59b91a35e4d19963f729888634399",
       "version_major": 2,
       "version_minor": 0
      },
      "text/plain": [
       "  0%|          | 0/1000 [00:00<?, ?it/s]"
      ]
     },
     "metadata": {},
     "output_type": "display_data"
    },
    {
     "data": {
      "application/vnd.jupyter.widget-view+json": {
       "model_id": "64fc200f8a57400c878f72a37e686d30",
       "version_major": 2,
       "version_minor": 0
      },
      "text/plain": [
       "  0%|          | 0/1000 [00:00<?, ?it/s]"
      ]
     },
     "metadata": {},
     "output_type": "display_data"
    }
   ],
   "source": [
    "k=8 # kength of the spectrum\n",
    "list_char=['A','C','G','T'] # list of possible characters that may appear in the DNA\n",
    "list_spec_comp=General_spec(k,list_char)\n",
    "\n",
    "\n",
    "K_tr0,feature_matrix_tr0=Gram_spectrum_kernel(k,Xtr0)\n",
    "K_tr1,feature_matrix_tr1=Gram_spectrum_kernel(k,Xtr1)\n",
    "K_tr2,feature_matrix_tr2=Gram_spectrum_kernel(k,Xtr2)\n",
    "\n",
    "lamda=0.1\n",
    "Alpha_svm_0=my_SVM(K_tr0,Ytr0*2-1,lamda)\n",
    "Alpha_svm_1=my_SVM(K_tr1,Ytr1*2-1,lamda)\n",
    "Alpha_svm_2=my_SVM(K_tr2,Ytr2*2-1,lamda)\n",
    "\n",
    "\n",
    "Alpha_ridge_reg_0=ridge_reg(K_tr0,Ytr0*2-1,lamda)\n",
    "Alpha_ridge_reg_1=ridge_reg(K_tr1,Ytr1*2-1,lamda)\n",
    "Alpha_ridge_reg_2=ridge_reg(K_tr2,Ytr2*2-1,lamda)\n",
    "\n",
    "\n",
    "Yte0_svm=predict(Xte0,feature_matrix_tr0,Alpha_svm_0,k)\n",
    "Yte1_svm=predict(Xte1,feature_matrix_tr1,Alpha_svm_1,k)\n",
    "Yte2_svm=predict(Xte2,feature_matrix_tr2,Alpha_svm_2,k)\n",
    "\n",
    "Yte0_ridge=predict(Xte0,feature_matrix_tr0,Alpha_ridge_reg_0,k)\n",
    "Yte1_ridge=predict(Xte1,feature_matrix_tr1,Alpha_ridge_reg_1,k)\n",
    "Yte2_ridge=predict(Xte2,feature_matrix_tr2,Alpha_ridge_reg_2,k)\n",
    "\n",
    "\n"
   ]
  },
  {
   "cell_type": "code",
   "execution_count": 121,
   "metadata": {},
   "outputs": [],
   "source": [
    "Yte_svm=np.concatenate((Yte0_svm,Yte1_svm,Yte2_svm),axis=0).astype(int)\n",
    "Yte_svm_list=[['id','bound']]\n",
    "for i in range(len(Yte_svm)):\n",
    "    Yte_svm_list.append([i,Yte_svm[i]])    \n",
    "with open('Yte_svm.csv', 'w', newline='') as file:\n",
    "    writer = csv.writer(file, delimiter=',')\n",
    "    writer.writerows(Yte_svm_list)\n",
    "\n",
    "Yte_ridge=np.concatenate((Yte0_ridge,Yte1_ridge,Yte2_ridge),axis=0).astype(int)\n",
    "Yte_ridge_list=[['id','bound']]\n",
    "for i in range(len(Yte_ridge)):\n",
    "    Yte_ridge_list.append([i,Yte_ridge[i]])    \n",
    "with open('Yte_ridge.csv', 'w', newline='') as file:\n",
    "    writer = csv.writer(file, delimiter=',')\n",
    "    writer.writerows(Yte_ridge_list)"
   ]
  },
  {
   "cell_type": "markdown",
   "metadata": {},
   "source": [
    "### ------ testing on the training data---------------------------"
   ]
  },
  {
   "cell_type": "code",
   "execution_count": 12,
   "metadata": {},
   "outputs": [
    {
     "name": "stdout",
     "output_type": "stream",
     "text": [
      "score svm 0.967\n",
      "score ridge 0.9865\n"
     ]
    }
   ],
   "source": [
    "Ytr0_test=np.dot(K_tr0,Alpha_svm_0)\n",
    "Y=np.zeros_like(Ytr0_test)\n",
    "Y[Ytr0_test>0]=1\n",
    "score=len(np.where(Y==Ytr0)[0])\n",
    "score/=2000\n",
    "print('score svm',score)\n",
    "\n",
    "Ytr0_test=np.dot(K_tr0,Alpha_ridge_reg_0)\n",
    "Y=np.zeros_like(Ytr0_test)\n",
    "Y[Ytr0_test>0]=1\n",
    "score=len(np.where(Y==Ytr0)[0])\n",
    "score/=2000\n",
    "print('score ridge',score)"
   ]
  },
  {
   "cell_type": "code",
   "execution_count": 11,
   "metadata": {},
   "outputs": [
    {
     "name": "stdout",
     "output_type": "stream",
     "text": [
      "score svm 0.985\n",
      "score ridge 0.9985\n"
     ]
    }
   ],
   "source": [
    "# test\n",
    "Ytr1_test=np.dot(K_tr1,Alpha_svm_1)\n",
    "Y=np.zeros_like(Ytr1_test)\n",
    "Y[Ytr1_test>0]=1\n",
    "score=len(np.where(Y==Ytr1)[0])\n",
    "score/=2000\n",
    "print('score svm',score)\n",
    "\n",
    "Ytr1_test=np.dot(K_tr1,Alpha_ridge_reg_1)\n",
    "Y=np.zeros_like(Ytr1_test)\n",
    "Y[Ytr1_test>0]=1\n",
    "score=len(np.where(Y==Ytr1)[0])\n",
    "score/=2000\n",
    "print('score ridge',score)"
   ]
  },
  {
   "cell_type": "code",
   "execution_count": 13,
   "metadata": {},
   "outputs": [
    {
     "name": "stdout",
     "output_type": "stream",
     "text": [
      "score svm 0.92\n",
      "score ridge 0.993\n"
     ]
    }
   ],
   "source": [
    "Ytr2_test=np.dot(K_tr2,Alpha_svm_2)\n",
    "Y=np.zeros_like(Ytr2_test)\n",
    "Y[Ytr2_test>0]=1\n",
    "score=len(np.where(Y==Ytr2)[0])\n",
    "score/=2000\n",
    "print('score svm',score)\n",
    "\n",
    "Ytr2_test=np.dot(K_tr2,Alpha_ridge_reg_2)\n",
    "Y=np.zeros_like(Ytr2_test)\n",
    "Y[Ytr2_test>0]=1\n",
    "score=len(np.where(Y==Ytr2)[0])\n",
    "score/=2000\n",
    "print('score ridge',score)"
   ]
  },
  {
   "cell_type": "code",
   "execution_count": null,
   "metadata": {},
   "outputs": [],
   "source": []
  }
 ],
 "metadata": {
  "kernelspec": {
   "display_name": "Python 3",
   "language": "python",
   "name": "python3"
  },
  "language_info": {
   "codemirror_mode": {
    "name": "ipython",
    "version": 3
   },
   "file_extension": ".py",
   "mimetype": "text/x-python",
   "name": "python",
   "nbconvert_exporter": "python",
   "pygments_lexer": "ipython3",
   "version": "3.7.6"
  }
 },
 "nbformat": 4,
 "nbformat_minor": 4
}
